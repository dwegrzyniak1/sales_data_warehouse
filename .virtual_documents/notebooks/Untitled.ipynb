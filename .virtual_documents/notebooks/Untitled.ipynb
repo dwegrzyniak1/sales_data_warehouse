import pandas as pd


#read data

data = pd.read_csv("../data/Sales Dataset.csv")















