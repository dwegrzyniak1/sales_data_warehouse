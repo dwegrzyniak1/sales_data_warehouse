import kagglehub

# Download latest version
path = kagglehub.dataset_download("shantanugarg274/sales-dataset")

print("Path to dataset files:", path)



