{
 "cells": [
  {
   "cell_type": "code",
   "execution_count": 1,
   "id": "2cbe98e4-f54a-4a73-8c8e-97fb2bd1e5a3",
   "metadata": {},
   "outputs": [],
   "source": [
    "import pandas as pd"
   ]
  },
  {
   "cell_type": "markdown",
   "id": "0e1a2f1c-353d-4f84-8d6b-81a6cc590347",
   "metadata": {},
   "source": [
    "#### Read data ####"
   ]
  },
  {
   "cell_type": "code",
   "execution_count": 2,
   "id": "b7058d06-84cc-4723-8e1a-d29e8f652f1d",
   "metadata": {},
   "outputs": [],
   "source": [
    "raw_data = pd.read_csv('../data/Sales Dataset.csv')"
   ]
  },
  {
   "cell_type": "code",
   "execution_count": 3,
   "id": "18d09fa0-fe09-4273-bee1-9958f4a8c023",
   "metadata": {},
   "outputs": [
    {
     "data": {
      "text/html": [
       "<div>\n",
       "<style scoped>\n",
       "    .dataframe tbody tr th:only-of-type {\n",
       "        vertical-align: middle;\n",
       "    }\n",
       "\n",
       "    .dataframe tbody tr th {\n",
       "        vertical-align: top;\n",
       "    }\n",
       "\n",
       "    .dataframe thead th {\n",
       "        text-align: right;\n",
       "    }\n",
       "</style>\n",
       "<table border=\"1\" class=\"dataframe\">\n",
       "  <thead>\n",
       "    <tr style=\"text-align: right;\">\n",
       "      <th></th>\n",
       "      <th>Order ID</th>\n",
       "      <th>Amount</th>\n",
       "      <th>Profit</th>\n",
       "      <th>Quantity</th>\n",
       "      <th>Category</th>\n",
       "      <th>Sub-Category</th>\n",
       "      <th>PaymentMode</th>\n",
       "      <th>Order Date</th>\n",
       "      <th>CustomerName</th>\n",
       "      <th>State</th>\n",
       "      <th>City</th>\n",
       "      <th>Year-Month</th>\n",
       "    </tr>\n",
       "  </thead>\n",
       "  <tbody>\n",
       "    <tr>\n",
       "      <th>0</th>\n",
       "      <td>B-26776</td>\n",
       "      <td>9726</td>\n",
       "      <td>1275</td>\n",
       "      <td>5</td>\n",
       "      <td>Electronics</td>\n",
       "      <td>Electronic Games</td>\n",
       "      <td>UPI</td>\n",
       "      <td>2023-06-27</td>\n",
       "      <td>David Padilla</td>\n",
       "      <td>Florida</td>\n",
       "      <td>Miami</td>\n",
       "      <td>2023-06</td>\n",
       "    </tr>\n",
       "    <tr>\n",
       "      <th>1</th>\n",
       "      <td>B-26776</td>\n",
       "      <td>9726</td>\n",
       "      <td>1275</td>\n",
       "      <td>5</td>\n",
       "      <td>Electronics</td>\n",
       "      <td>Electronic Games</td>\n",
       "      <td>UPI</td>\n",
       "      <td>2024-12-27</td>\n",
       "      <td>Connor Morgan</td>\n",
       "      <td>Illinois</td>\n",
       "      <td>Chicago</td>\n",
       "      <td>2024-12</td>\n",
       "    </tr>\n",
       "    <tr>\n",
       "      <th>2</th>\n",
       "      <td>B-26776</td>\n",
       "      <td>9726</td>\n",
       "      <td>1275</td>\n",
       "      <td>5</td>\n",
       "      <td>Electronics</td>\n",
       "      <td>Electronic Games</td>\n",
       "      <td>UPI</td>\n",
       "      <td>2021-07-25</td>\n",
       "      <td>Robert Stone</td>\n",
       "      <td>New York</td>\n",
       "      <td>Buffalo</td>\n",
       "      <td>2021-07</td>\n",
       "    </tr>\n",
       "    <tr>\n",
       "      <th>3</th>\n",
       "      <td>B-26776</td>\n",
       "      <td>4975</td>\n",
       "      <td>1330</td>\n",
       "      <td>14</td>\n",
       "      <td>Electronics</td>\n",
       "      <td>Printers</td>\n",
       "      <td>UPI</td>\n",
       "      <td>2023-06-27</td>\n",
       "      <td>David Padilla</td>\n",
       "      <td>Florida</td>\n",
       "      <td>Miami</td>\n",
       "      <td>2023-06</td>\n",
       "    </tr>\n",
       "    <tr>\n",
       "      <th>4</th>\n",
       "      <td>B-26776</td>\n",
       "      <td>4975</td>\n",
       "      <td>1330</td>\n",
       "      <td>14</td>\n",
       "      <td>Electronics</td>\n",
       "      <td>Printers</td>\n",
       "      <td>UPI</td>\n",
       "      <td>2024-12-27</td>\n",
       "      <td>Connor Morgan</td>\n",
       "      <td>Illinois</td>\n",
       "      <td>Chicago</td>\n",
       "      <td>2024-12</td>\n",
       "    </tr>\n",
       "  </tbody>\n",
       "</table>\n",
       "</div>"
      ],
      "text/plain": [
       "  Order ID  Amount  Profit  Quantity     Category      Sub-Category  \\\n",
       "0  B-26776    9726    1275         5  Electronics  Electronic Games   \n",
       "1  B-26776    9726    1275         5  Electronics  Electronic Games   \n",
       "2  B-26776    9726    1275         5  Electronics  Electronic Games   \n",
       "3  B-26776    4975    1330        14  Electronics          Printers   \n",
       "4  B-26776    4975    1330        14  Electronics          Printers   \n",
       "\n",
       "  PaymentMode  Order Date   CustomerName     State     City Year-Month  \n",
       "0         UPI  2023-06-27  David Padilla   Florida    Miami    2023-06  \n",
       "1         UPI  2024-12-27  Connor Morgan  Illinois  Chicago    2024-12  \n",
       "2         UPI  2021-07-25   Robert Stone  New York  Buffalo    2021-07  \n",
       "3         UPI  2023-06-27  David Padilla   Florida    Miami    2023-06  \n",
       "4         UPI  2024-12-27  Connor Morgan  Illinois  Chicago    2024-12  "
      ]
     },
     "execution_count": 3,
     "metadata": {},
     "output_type": "execute_result"
    }
   ],
   "source": [
    "raw_data.head()"
   ]
  },
  {
   "cell_type": "markdown",
   "id": "e05b99d8-ebc6-4061-9cd3-789e0a1fe07f",
   "metadata": {},
   "source": [
    "#### dim_customers table ####"
   ]
  },
  {
   "cell_type": "code",
   "execution_count": 5,
   "id": "0b182bcd-89a4-4d01-8b2b-8456db904373",
   "metadata": {},
   "outputs": [],
   "source": [
    "dim_customer = raw_data[['CustomerName', 'State', 'City']].drop_duplicates()"
   ]
  },
  {
   "cell_type": "code",
   "execution_count": 8,
   "id": "115235ee-58c3-4b86-80e7-187f46175dac",
   "metadata": {},
   "outputs": [
    {
     "data": {
      "text/plain": [
       "CustomerName\n",
       "Kimberly Fuller      2\n",
       "Christian Jones      2\n",
       "Megan Williams       2\n",
       "Michael Rodriguez    2\n",
       "Jacqueline Harris    2\n",
       "                    ..\n",
       "Robert Stone         1\n",
       "Andrea Hill          1\n",
       "Jeffrey Dixon        1\n",
       "Juan Erickson        1\n",
       "Karen Johnson        1\n",
       "Name: count, Length: 802, dtype: int64"
      ]
     },
     "execution_count": 8,
     "metadata": {},
     "output_type": "execute_result"
    }
   ],
   "source": [
    "# check unique values\n",
    "dim_customer['CustomerName'].value_counts()"
   ]
  },
  {
   "cell_type": "code",
   "execution_count": 15,
   "id": "3dabfb82-7edd-46c3-a268-cc1b8861ec06",
   "metadata": {},
   "outputs": [
    {
     "data": {
      "text/html": [
       "<div>\n",
       "<style scoped>\n",
       "    .dataframe tbody tr th:only-of-type {\n",
       "        vertical-align: middle;\n",
       "    }\n",
       "\n",
       "    .dataframe tbody tr th {\n",
       "        vertical-align: top;\n",
       "    }\n",
       "\n",
       "    .dataframe thead th {\n",
       "        text-align: right;\n",
       "    }\n",
       "</style>\n",
       "<table border=\"1\" class=\"dataframe\">\n",
       "  <thead>\n",
       "    <tr style=\"text-align: right;\">\n",
       "      <th></th>\n",
       "      <th>Order ID</th>\n",
       "      <th>Amount</th>\n",
       "      <th>Profit</th>\n",
       "      <th>Quantity</th>\n",
       "      <th>Category</th>\n",
       "      <th>Sub-Category</th>\n",
       "      <th>PaymentMode</th>\n",
       "      <th>Order Date</th>\n",
       "      <th>CustomerName</th>\n",
       "      <th>State</th>\n",
       "      <th>City</th>\n",
       "      <th>Year-Month</th>\n",
       "    </tr>\n",
       "  </thead>\n",
       "  <tbody>\n",
       "    <tr>\n",
       "      <th>28</th>\n",
       "      <td>B-26232</td>\n",
       "      <td>5219</td>\n",
       "      <td>1180</td>\n",
       "      <td>20</td>\n",
       "      <td>Office Supplies</td>\n",
       "      <td>Binders</td>\n",
       "      <td>COD</td>\n",
       "      <td>2023-02-03</td>\n",
       "      <td>Jacqueline Harris</td>\n",
       "      <td>California</td>\n",
       "      <td>San Francisco</td>\n",
       "      <td>2023-02</td>\n",
       "    </tr>\n",
       "    <tr>\n",
       "      <th>59</th>\n",
       "      <td>B-26730</td>\n",
       "      <td>6139</td>\n",
       "      <td>451</td>\n",
       "      <td>10</td>\n",
       "      <td>Furniture</td>\n",
       "      <td>Tables</td>\n",
       "      <td>Debit Card</td>\n",
       "      <td>2021-04-05</td>\n",
       "      <td>Jacqueline Harris</td>\n",
       "      <td>Texas</td>\n",
       "      <td>Houston</td>\n",
       "      <td>2021-04</td>\n",
       "    </tr>\n",
       "    <tr>\n",
       "      <th>61</th>\n",
       "      <td>B-26730</td>\n",
       "      <td>8636</td>\n",
       "      <td>3192</td>\n",
       "      <td>3</td>\n",
       "      <td>Furniture</td>\n",
       "      <td>Chairs</td>\n",
       "      <td>COD</td>\n",
       "      <td>2021-04-05</td>\n",
       "      <td>Jacqueline Harris</td>\n",
       "      <td>Texas</td>\n",
       "      <td>Houston</td>\n",
       "      <td>2021-04</td>\n",
       "    </tr>\n",
       "    <tr>\n",
       "      <th>63</th>\n",
       "      <td>B-26730</td>\n",
       "      <td>4439</td>\n",
       "      <td>1712</td>\n",
       "      <td>19</td>\n",
       "      <td>Furniture</td>\n",
       "      <td>Sofas</td>\n",
       "      <td>Credit Card</td>\n",
       "      <td>2021-04-05</td>\n",
       "      <td>Jacqueline Harris</td>\n",
       "      <td>Texas</td>\n",
       "      <td>Houston</td>\n",
       "      <td>2021-04</td>\n",
       "    </tr>\n",
       "  </tbody>\n",
       "</table>\n",
       "</div>"
      ],
      "text/plain": [
       "   Order ID  Amount  Profit  Quantity         Category Sub-Category  \\\n",
       "28  B-26232    5219    1180        20  Office Supplies      Binders   \n",
       "59  B-26730    6139     451        10        Furniture       Tables   \n",
       "61  B-26730    8636    3192         3        Furniture       Chairs   \n",
       "63  B-26730    4439    1712        19        Furniture        Sofas   \n",
       "\n",
       "    PaymentMode  Order Date       CustomerName       State           City  \\\n",
       "28          COD  2023-02-03  Jacqueline Harris  California  San Francisco   \n",
       "59   Debit Card  2021-04-05  Jacqueline Harris       Texas        Houston   \n",
       "61          COD  2021-04-05  Jacqueline Harris       Texas        Houston   \n",
       "63  Credit Card  2021-04-05  Jacqueline Harris       Texas        Houston   \n",
       "\n",
       "   Year-Month  \n",
       "28    2023-02  \n",
       "59    2021-04  \n",
       "61    2021-04  \n",
       "63    2021-04  "
      ]
     },
     "execution_count": 15,
     "metadata": {},
     "output_type": "execute_result"
    }
   ],
   "source": [
    "raw_data[raw_data['CustomerName'] == 'Jacqueline Harris']"
   ]
  },
  {
   "cell_type": "code",
   "execution_count": null,
   "id": "e63e4f55-4d77-4448-84ca-500881dd6f7f",
   "metadata": {},
   "outputs": [],
   "source": [
    "#one customer can order the product from different locations - it's better to create a separate table to store location"
   ]
  },
  {
   "cell_type": "code",
   "execution_count": 20,
   "id": "d2235176-dc4b-475d-a03f-6778626b0f20",
   "metadata": {},
   "outputs": [],
   "source": [
    "dim_customer = dim_customer.drop(['State', 'City'], axis = 1).drop_duplicates()"
   ]
  },
  {
   "cell_type": "code",
   "execution_count": 23,
   "id": "45283620-4cd2-4ffe-8fb0-b88c8e14ff00",
   "metadata": {},
   "outputs": [
    {
     "data": {
      "text/plain": [
       "CustomerName\n",
       "Andrea Hill           1\n",
       "David Padilla         1\n",
       "Robert Sexton         1\n",
       "Jeffrey Dixon         1\n",
       "William Carr          1\n",
       "                     ..\n",
       "Jacqueline Hubbard    1\n",
       "Richard Kelley        1\n",
       "Clayton Smith         1\n",
       "John Fields           1\n",
       "Robert Stone          1\n",
       "Name: count, Length: 802, dtype: int64"
      ]
     },
     "execution_count": 23,
     "metadata": {},
     "output_type": "execute_result"
    }
   ],
   "source": [
    "dim_customer['CustomerName'].value_counts()"
   ]
  },
  {
   "cell_type": "code",
   "execution_count": null,
   "id": "6b50e5c7-3dd5-470e-b406-cd71eff42a9c",
   "metadata": {},
   "outputs": [],
   "source": []
  }
 ],
 "metadata": {
  "kernelspec": {
   "display_name": "Python 3 (ipykernel)",
   "language": "python",
   "name": "python3"
  },
  "language_info": {
   "codemirror_mode": {
    "name": "ipython",
    "version": 3
   },
   "file_extension": ".py",
   "mimetype": "text/x-python",
   "name": "python",
   "nbconvert_exporter": "python",
   "pygments_lexer": "ipython3",
   "version": "3.10.12"
  }
 },
 "nbformat": 4,
 "nbformat_minor": 5
}
